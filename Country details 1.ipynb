{
 "cells": [
  {
   "cell_type": "code",
   "execution_count": 1,
   "id": "284a9573",
   "metadata": {},
   "outputs": [
    {
     "name": "stdout",
     "output_type": "stream",
     "text": [
      "Requirement already satisfied: countryinfo in c:\\users\\ismae\\anaconda3\\lib\\site-packages (0.1.2)\n"
     ]
    }
   ],
   "source": [
    "!pip install countryinfo"
   ]
  },
  {
   "cell_type": "code",
   "execution_count": 2,
   "id": "b1b64042",
   "metadata": {},
   "outputs": [],
   "source": [
    "from countryinfo import CountryInfo"
   ]
  },
  {
   "cell_type": "code",
   "execution_count": 3,
   "id": "f6cad701",
   "metadata": {},
   "outputs": [],
   "source": [
    "def get_country_info(country_name):\n",
    "    try:\n",
    "        country = CountryInfo(country_name)\n",
    "        print(\"Country: \", country_name)\n",
    "        print(\"Capital: \", country.capital())\n",
    "        print(\"Currencies: \", \", \".join(country.currencies()))\n",
    "        print(\"Languages: \", \", \".join(country.languages()))\n",
    "        print(\"Borders: \", \", \".join(country.borders()))\n",
    "        print(\"Other names: \", \", \".join(country.alt_spellings()))\n",
    "        print(\"Population: \", country.population())\n",
    "        print(\"Timezones: \", \", \".join(country.timezones()))\n",
    "    except Exception as e:\n",
    "            print(f\"Error: {e}\")"
   ]
  },
  {
   "cell_type": "code",
   "execution_count": 4,
   "id": "0b5ecf53",
   "metadata": {},
   "outputs": [
    {
     "name": "stdout",
     "output_type": "stream",
     "text": [
      "Enter the name of the country: South africa\n",
      "Country:  South africa\n",
      "Capital:  Pretoria\n",
      "Currencies:  ZAR\n",
      "Languages:  af, en, nr, st, ss, tn, ts, ve, xh, zu\n",
      "Borders:  BWA, LSO, MOZ, NAM, SWZ, ZWE\n",
      "Other names:  ZA, RSA, Suid-Afrika, Republic of South Africa\n",
      "Population:  54002000\n",
      "Timezones:  UTC+02:00\n"
     ]
    }
   ],
   "source": [
    "if __name__ == \"__main__\":\n",
    "    country_name = input(\"Enter the name of the country: \")\n",
    "    get_country_info(country_name)"
   ]
  },
  {
   "cell_type": "code",
   "execution_count": null,
   "id": "eaaf76fa",
   "metadata": {},
   "outputs": [],
   "source": []
  }
 ],
 "metadata": {
  "kernelspec": {
   "display_name": "Python 3 (ipykernel)",
   "language": "python",
   "name": "python3"
  },
  "language_info": {
   "codemirror_mode": {
    "name": "ipython",
    "version": 3
   },
   "file_extension": ".py",
   "mimetype": "text/x-python",
   "name": "python",
   "nbconvert_exporter": "python",
   "pygments_lexer": "ipython3",
   "version": "3.11.5"
  }
 },
 "nbformat": 4,
 "nbformat_minor": 5
}
