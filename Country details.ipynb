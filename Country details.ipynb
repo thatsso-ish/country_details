{
 "cells": [
  {
   "cell_type": "code",
   "execution_count": 4,
   "id": "5b9fa9e1",
   "metadata": {},
   "outputs": [
    {
     "name": "stderr",
     "output_type": "stream",
     "text": [
      "WARNING: Retrying (Retry(total=4, connect=None, read=None, redirect=None, status=None)) after connection broken by 'ProxyError('Cannot connect to proxy.', OSError('Tunnel connection failed: 407 Proxy Authentication Required'))': /simple/countryinfo/\n",
      "WARNING: Retrying (Retry(total=3, connect=None, read=None, redirect=None, status=None)) after connection broken by 'ProxyError('Cannot connect to proxy.', OSError('Tunnel connection failed: 407 Proxy Authentication Required'))': /simple/countryinfo/\n",
      "WARNING: Retrying (Retry(total=2, connect=None, read=None, redirect=None, status=None)) after connection broken by 'ProxyError('Cannot connect to proxy.', OSError('Tunnel connection failed: 407 Proxy Authentication Required'))': /simple/countryinfo/\n",
      "WARNING: Retrying (Retry(total=1, connect=None, read=None, redirect=None, status=None)) after connection broken by 'ProxyError('Cannot connect to proxy.', OSError('Tunnel connection failed: 407 Proxy Authentication Required'))': /simple/countryinfo/\n",
      "WARNING: Retrying (Retry(total=0, connect=None, read=None, redirect=None, status=None)) after connection broken by 'ProxyError('Cannot connect to proxy.', OSError('Tunnel connection failed: 407 Proxy Authentication Required'))': /simple/countryinfo/\n",
      "ERROR: Could not find a version that satisfies the requirement countryinfo (from versions: none)\n",
      "ERROR: No matching distribution found for countryinfo\n"
     ]
    }
   ],
   "source": [
    "!pip install countryinfo"
   ]
  },
  {
   "cell_type": "code",
   "execution_count": 9,
   "id": "6d982cd8",
   "metadata": {},
   "outputs": [
    {
     "ename": "ModuleNotFoundError",
     "evalue": "No module named 'countryinfo'",
     "output_type": "error",
     "traceback": [
      "\u001b[1;31m---------------------------------------------------------------------------\u001b[0m",
      "\u001b[1;31mModuleNotFoundError\u001b[0m                       Traceback (most recent call last)",
      "Cell \u001b[1;32mIn[9], line 1\u001b[0m\n\u001b[1;32m----> 1\u001b[0m \u001b[38;5;28;01mfrom\u001b[39;00m \u001b[38;5;21;01mcountryinfo\u001b[39;00m \u001b[38;5;28;01mimport\u001b[39;00m CountryInfo\n",
      "\u001b[1;31mModuleNotFoundError\u001b[0m: No module named 'countryinfo'"
     ]
    }
   ],
   "source": [
    "from countryinfo import CountryInfo"
   ]
  },
  {
   "cell_type": "code",
   "execution_count": 10,
   "id": "45809d1a",
   "metadata": {},
   "outputs": [],
   "source": [
    "def get_country_info(country_name):\n",
    "    try:\n",
    "        country = CountryInfo(country_name)\n",
    "        print(\"Country: \", country_name)\n",
    "        print(\"Capital: \", country.capital())\n",
    "        print(\"Currencies: \", \", \".join(country.currencies()))\n",
    "        print(\"Languages: \", \", \".join(country.languages()))\n",
    "        print(\"Borders: \", \", \".join(country.borders()))\n",
    "        print(\"Other names: \", \", \".join(country.alt_spellings()))\n",
    "    except Exception as e:\n",
    "        print(f\"Error: {e}\")"
   ]
  },
  {
   "cell_type": "code",
   "execution_count": null,
   "id": "a5a01b5f",
   "metadata": {},
   "outputs": [],
   "source": [
    "if __name__ == \"__main__\":\n",
    "    country_name = input(\"Enter the name of the country: \")\n",
    "    get_country_info(country_name)"
   ]
  },
  {
   "cell_type": "code",
   "execution_count": null,
   "id": "5b612971",
   "metadata": {},
   "outputs": [],
   "source": []
  }
 ],
 "metadata": {
  "kernelspec": {
   "display_name": "Python 3 (ipykernel)",
   "language": "python",
   "name": "python3"
  },
  "language_info": {
   "codemirror_mode": {
    "name": "ipython",
    "version": 3
   },
   "file_extension": ".py",
   "mimetype": "text/x-python",
   "name": "python",
   "nbconvert_exporter": "python",
   "pygments_lexer": "ipython3",
   "version": "3.11.5"
  }
 },
 "nbformat": 4,
 "nbformat_minor": 5
}
