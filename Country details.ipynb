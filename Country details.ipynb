{
 "cells": [
  {
   "cell_type": "code",
   "execution_count": 1,
   "id": "e0154fc3",
   "metadata": {},
   "outputs": [
    {
     "name": "stdout",
     "output_type": "stream",
     "text": [
      "Requirement already satisfied: countryinfo in c:\\users\\ismae\\anaconda3\\lib\\site-packages (0.1.2)\n"
     ]
    }
   ],
   "source": [
    "!pip install countryinfo"
   ]
  },
  {
   "cell_type": "code",
   "execution_count": 2,
   "id": "5d8a0824",
   "metadata": {},
   "outputs": [],
   "source": [
    "from countryinfo import CountryInfo"
   ]
  },
  {
   "cell_type": "code",
   "execution_count": 3,
   "id": "c27a4f75",
   "metadata": {},
   "outputs": [],
   "source": [
    "def get_country_info(country_name):\n",
    "    try:\n",
    "        country = CountryInfo(country_name)\n",
    "        print(\"Country: \", country_name)\n",
    "        print(\"Capital: \", country.capital())\n",
    "        print(\"Currencies: \", \", \".join(country.currencies()))\n",
    "        print(\"Languages: \", \", \".join(country.languages()))\n",
    "        print(\"Borders: \", \", \".join(country.borders()))\n",
    "        print(\"Other names: \", \", \".join(country.alt_spellings()))\n",
    "    except Exception as e:\n",
    "            print(f\"Error: {e}\")"
   ]
  },
  {
   "cell_type": "code",
   "execution_count": 4,
   "id": "93e4e5d9",
   "metadata": {},
   "outputs": [
    {
     "name": "stdout",
     "output_type": "stream",
     "text": [
      "Enter the name of the country: Brazil\n",
      "Country:  Brazil\n",
      "Capital:  Brasília\n",
      "Currencies:  BRL\n",
      "Languages:  pt\n",
      "Borders:  ARG, BOL, COL, GUF, GUY, PRY, PER, SUR, URY, VEN\n",
      "Other names:  BR, Brasil, Federative Republic of Brazil, República Federativa do Brasil\n"
     ]
    }
   ],
   "source": [
    "if __name__ == \"__main__\":\n",
    "    country_name = input(\"Enter the name of the country: \")\n",
    "    get_country_info(country_name)"
   ]
  },
  {
   "cell_type": "code",
   "execution_count": null,
   "id": "34e8f659",
   "metadata": {},
   "outputs": [],
   "source": []
  }
 ],
 "metadata": {
  "kernelspec": {
   "display_name": "Python 3 (ipykernel)",
   "language": "python",
   "name": "python3"
  },
  "language_info": {
   "codemirror_mode": {
    "name": "ipython",
    "version": 3
   },
   "file_extension": ".py",
   "mimetype": "text/x-python",
   "name": "python",
   "nbconvert_exporter": "python",
   "pygments_lexer": "ipython3",
   "version": "3.11.5"
  }
 },
 "nbformat": 4,
 "nbformat_minor": 5
}
